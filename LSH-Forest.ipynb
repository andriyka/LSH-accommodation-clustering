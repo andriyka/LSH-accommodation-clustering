{
 "cells": [
  {
   "cell_type": "markdown",
   "metadata": {},
   "source": [
    "# LSHForest for Airbnb dataset"
   ]
  },
  {
   "cell_type": "markdown",
   "metadata": {},
   "source": [
    "Setting Spark-related variables"
   ]
  },
  {
   "cell_type": "code",
   "execution_count": 1,
   "metadata": {},
   "outputs": [],
   "source": [
    "import os\n",
    "os.environ[\"SPARK_HOME\"] = '/home/******/Documents/spark/spark-2.3.0-bin-hadoop2.7'\n",
    "os.environ[\"IPYTHON\"] = '1'\n",
    "os.environ[\"PYSPARK_PYTHON\"] = '/usr/bin/python3'\n",
    "os.environ[\"PYSPARK_DRIVER_PYTHON\"] = 'ipython3'\n",
    "os.environ[\"PYSPARK_DRIVER_PYTHON_OPTS\"] = 'notebook'"
   ]
  },
  {
   "cell_type": "code",
   "execution_count": 2,
   "metadata": {},
   "outputs": [],
   "source": [
    "from pyspark import SparkContext\n",
    "sc = SparkContext(\"local\", \"TF-IDF\")"
   ]
  },
  {
   "cell_type": "code",
   "execution_count": 3,
   "metadata": {},
   "outputs": [],
   "source": [
    "from pyspark.sql.session import SparkSession\n",
    "spark = SparkSession(sc)"
   ]
  },
  {
   "cell_type": "markdown",
   "metadata": {},
   "source": [
    "### Loading Data\n",
    "Here we are reading two datasets for Amsterdam."
   ]
  },
  {
   "cell_type": "code",
   "execution_count": 4,
   "metadata": {},
   "outputs": [],
   "source": [
    "from pyspark.sql.types import *\n",
    "listings = spark.read.csv(\"data/listings.csv\",header=True) \n",
    "reviews = spark.read.csv(\"data/reviews.csv\",header=True) "
   ]
  },
  {
   "cell_type": "code",
   "execution_count": 5,
   "metadata": {},
   "outputs": [
    {
     "name": "stdout",
     "output_type": "stream",
     "text": [
      "[Row(id='20621335', name='Clean room Amsterdam. Metro 3min walk.Free parking', host_id='25403329', host_name='Victor', neighbourhood_group=None, neighbourhood='Bijlmer-Oost', latitude='52.319172968245226', longitude='4.981150531499213', room_type='Private room', price='52', minimum_nights='3', number_of_reviews='23', last_review='2017-11-28', reviews_per_month='6.83', calculated_host_listings_count='1', availability_365='12')]\n",
      "[Row(listing_id='18285386', date='2017-04-29')]\n"
     ]
    }
   ],
   "source": [
    "print(listings.head(1))\n",
    "print(reviews.head(1))"
   ]
  },
  {
   "cell_type": "code",
   "execution_count": 6,
   "metadata": {},
   "outputs": [
    {
     "name": "stdout",
     "output_type": "stream",
     "text": [
      "18556 337816\n"
     ]
    }
   ],
   "source": [
    "print(listings.count(), reviews.count())"
   ]
  },
  {
   "cell_type": "markdown",
   "metadata": {},
   "source": [
    "Let's join two datasets"
   ]
  },
  {
   "cell_type": "code",
   "execution_count": 7,
   "metadata": {},
   "outputs": [],
   "source": [
    "joined = listings.join(reviews, listings.id == reviews.listing_id)"
   ]
  },
  {
   "cell_type": "code",
   "execution_count": 8,
   "metadata": {},
   "outputs": [
    {
     "data": {
      "text/plain": [
       "[Row(id='18285386', name='Vintage Apartment close to the Rembrandtpark', host_id='65859990', host_name='Martijn', neighbourhood_group=None, neighbourhood='De Baarsjes - Oud-West', latitude='52.359685090340044', longitude='4.849732024829394', room_type='Entire home/apt', price='110', minimum_nights='2', number_of_reviews='7', last_review='2017-10-19', reviews_per_month='0.95', calculated_host_listings_count='58', availability_365='0', listing_id='18285386', date='2017-04-29')]"
      ]
     },
     "execution_count": 8,
     "metadata": {},
     "output_type": "execute_result"
    }
   ],
   "source": [
    "type(joined)\n",
    "joined.head(1)\n",
    "# joined.show()"
   ]
  },
  {
   "cell_type": "code",
   "execution_count": 9,
   "metadata": {},
   "outputs": [
    {
     "name": "stdout",
     "output_type": "stream",
     "text": [
      "+------------------+\n",
      "|        avg(price)|\n",
      "+------------------+\n",
      "|127.29295807184384|\n",
      "+------------------+\n",
      "\n"
     ]
    }
   ],
   "source": [
    "avg = joined.agg({\"price\":\"avg\"})\n",
    "avg.show()\n",
    "avg = avg.first()[0]"
   ]
  },
  {
   "cell_type": "code",
   "execution_count": 10,
   "metadata": {},
   "outputs": [
    {
     "data": {
      "text/plain": [
       "float"
      ]
     },
     "execution_count": 10,
     "metadata": {},
     "output_type": "execute_result"
    }
   ],
   "source": [
    "type(avg)"
   ]
  },
  {
   "cell_type": "code",
   "execution_count": 11,
   "metadata": {},
   "outputs": [],
   "source": [
    "joined = joined.withColumn(\"price_deviation\", joined.price/avg)"
   ]
  },
  {
   "cell_type": "code",
   "execution_count": 12,
   "metadata": {},
   "outputs": [
    {
     "data": {
      "text/plain": [
       "[Row(id='18285386', name='Vintage Apartment close to the Rembrandtpark', host_id='65859990', host_name='Martijn', neighbourhood_group=None, neighbourhood='De Baarsjes - Oud-West', latitude='52.359685090340044', longitude='4.849732024829394', room_type='Entire home/apt', price='110', minimum_nights='2', number_of_reviews='7', last_review='2017-10-19', reviews_per_month='0.95', calculated_host_listings_count='58', availability_365='0', listing_id='18285386', date='2017-04-29', price_deviation=0.8641483524792963)]"
      ]
     },
     "execution_count": 12,
     "metadata": {},
     "output_type": "execute_result"
    }
   ],
   "source": [
    "joined.head(1)"
   ]
  },
  {
   "cell_type": "code",
   "execution_count": 13,
   "metadata": {},
   "outputs": [],
   "source": [
    "from pyspark.sql.functions import when\n",
    "joined = joined.withColumn(\"price_bucket\", when(joined.price>avg, \"H\").otherwise(\"L\"))\n",
    "# udf = udf(lambda x: \"H\" if x>avg else \"L\")\n",
    "# joined = joined.withColumn(\"price_bucket\",udf(joined.price))"
   ]
  },
  {
   "cell_type": "code",
   "execution_count": 14,
   "metadata": {},
   "outputs": [
    {
     "data": {
      "text/plain": [
       "[Row(id='18285386', name='Vintage Apartment close to the Rembrandtpark', host_id='65859990', host_name='Martijn', neighbourhood_group=None, neighbourhood='De Baarsjes - Oud-West', latitude='52.359685090340044', longitude='4.849732024829394', room_type='Entire home/apt', price='110', minimum_nights='2', number_of_reviews='7', last_review='2017-10-19', reviews_per_month='0.95', calculated_host_listings_count='58', availability_365='0', listing_id='18285386', date='2017-04-29', price_deviation=0.8641483524792963, price_bucket='L')]"
      ]
     },
     "execution_count": 14,
     "metadata": {},
     "output_type": "execute_result"
    }
   ],
   "source": [
    "joined.head(1)"
   ]
  },
  {
   "cell_type": "code",
   "execution_count": 15,
   "metadata": {},
   "outputs": [],
   "source": [
    "#joined.toPandas().to_csv('output/result.csv')"
   ]
  },
  {
   "cell_type": "code",
   "execution_count": 16,
   "metadata": {},
   "outputs": [],
   "source": [
    "# filter Null\n",
    "from pyspark.sql.functions import col\n",
    "group_nh = joined.where(col(\"neighbourhood\").isNotNull()).groupby(\"neighbourhood\").agg({\"price\":\"avg\"})"
   ]
  },
  {
   "cell_type": "code",
   "execution_count": 17,
   "metadata": {},
   "outputs": [
    {
     "name": "stdout",
     "output_type": "stream",
     "text": [
      "+--------------------+------------------+\n",
      "|       neighbourhood|        avg(price)|\n",
      "+--------------------+------------------+\n",
      "|           Oud-Noord|130.93894713848843|\n",
      "|De Baarsjes - Oud...|122.37392061405068|\n",
      "|       Bos en Lommer| 95.29638905066977|\n",
      "|              Osdorp| 84.53846153846153|\n",
      "|        Centrum-Oost|151.33991886623465|\n",
      "|De Pijp - Riviere...|126.36769410846664|\n",
      "|          Westerpark| 126.0908345913306|\n",
      "|            Oud-Oost|115.57246504007958|\n",
      "|Geuzenveld - Slot...| 85.75564853556486|\n",
      "|Oostelijk Havenge...|119.46980833963042|\n",
      "|                Zuid|149.55366458998125|\n",
      "|        Centrum-West|150.86658591451808|\n",
      "|          Noord-Oost| 86.61065573770492|\n",
      "|          Noord-West| 83.18913329573228|\n",
      "|IJburg - Zeeburge...|113.56179580516554|\n",
      "|De Aker - Nieuw S...| 82.38548878427028|\n",
      "|     Watergraafsmeer|123.47660775285905|\n",
      "|        Bijlmer-Oost| 67.12191011235954|\n",
      "|     Bijlmer-Centrum| 71.35648148148148|\n",
      "|Gaasperdam - Drie...| 79.30756111426948|\n",
      "+--------------------+------------------+\n",
      "only showing top 20 rows\n",
      "\n"
     ]
    }
   ],
   "source": [
    "group_nh.show()"
   ]
  },
  {
   "cell_type": "code",
   "execution_count": 18,
   "metadata": {},
   "outputs": [
    {
     "data": {
      "text/plain": [
       "22"
      ]
     },
     "execution_count": 18,
     "metadata": {},
     "output_type": "execute_result"
    }
   ],
   "source": [
    "group_nh.count()"
   ]
  },
  {
   "cell_type": "code",
   "execution_count": 19,
   "metadata": {},
   "outputs": [],
   "source": [
    "#group_nh.toPandas().to_csv('result_grouped.csv')"
   ]
  },
  {
   "cell_type": "markdown",
   "metadata": {},
   "source": [
    "## Here the home assignmnet begins"
   ]
  },
  {
   "cell_type": "code",
   "execution_count": 20,
   "metadata": {},
   "outputs": [],
   "source": [
    "from pyspark.ml.feature import HashingTF, IDF, Tokenizer\n"
   ]
  },
  {
   "cell_type": "markdown",
   "metadata": {},
   "source": [
    "Filling NA values with an empty string"
   ]
  },
  {
   "cell_type": "code",
   "execution_count": 21,
   "metadata": {},
   "outputs": [],
   "source": [
    "listings = listings.na.fill({'name': ''})"
   ]
  },
  {
   "cell_type": "markdown",
   "metadata": {},
   "source": [
    "### Tokenization\n",
    "First of all, we need to split sentences into tokens( words and special signs). Let's store tokens in a column **words**"
   ]
  },
  {
   "cell_type": "code",
   "execution_count": 22,
   "metadata": {},
   "outputs": [],
   "source": [
    "tokenizer = Tokenizer(inputCol='name', outputCol='words')\n",
    "wordsData = tokenizer.transform(listings)"
   ]
  },
  {
   "cell_type": "code",
   "execution_count": 23,
   "metadata": {},
   "outputs": [
    {
     "name": "stdout",
     "output_type": "stream",
     "text": [
      "+--------------------------------------------------+----------------------------------------------------------+\n",
      "|name                                              |words                                                     |\n",
      "+--------------------------------------------------+----------------------------------------------------------+\n",
      "|Clean room Amsterdam. Metro 3min walk.Free parking|[clean, room, amsterdam., metro, 3min, walk.free, parking]|\n",
      "|Sunny and cozy room close to metro                |[sunny, and, cozy, room, close, to, metro]                |\n",
      "|Pop B&B-private room,free parking,sauna,terraces  |[pop, b&b-private, room,free, parking,sauna,terraces]     |\n",
      "|Tastefully furnished studio with breakfast&parking|[tastefully, furnished, studio, with, breakfast&parking]  |\n",
      "|Cozy room in the SE of Amsterdam                  |[cozy, room, in, the, se, of, amsterdam]                  |\n",
      "|Great room south of Amsterdam!                    |[great, room, south, of, amsterdam!]                      |\n",
      "|Lovely room in South East Amsterdam               |[lovely, room, in, south, east, amsterdam]                |\n",
      "|spacious light appartment amsterdam zuid-oost     |[spacious, light, appartment, amsterdam, zuid-oost]       |\n",
      "|Amsterdam South Studio                            |[amsterdam, south, studio]                                |\n",
      "|B&B# green oasis with free parking                |[b&b#, green, oasis, with, free, parking]                 |\n",
      "|King  bedroom near metro station                  |[king, , bedroom, near, metro, station]                   |\n",
      "|Spacious room in a neat house                     |[spacious, room, in, a, neat, house]                      |\n",
      "|Wow! Laid back townhouse with terrace and garden  |[wow!, laid, back, townhouse, with, terrace, and, garden] |\n",
      "|Amsterdam thrive retreat                          |[amsterdam, thrive, retreat]                              |\n",
      "|Large bedroom 15 min from Amsterdam city center   |[large, bedroom, 15, min, from, amsterdam, city, center]  |\n",
      "|Comfortable  room for 1 or 2 people               |[comfortable, , room, for, 1, or, 2, people]              |\n",
      "|3 rooms in green environment                      |[3, rooms, in, green, environment]                        |\n",
      "|Studio Amsterdam (55M2) - Bicycle included!       |[studio, amsterdam, (55m2), -, bicycle, included!]        |\n",
      "|Nice room 15 min to city center. Free parking     |[nice, room, 15, min, to, city, center., free, parking]   |\n",
      "|Nice appartment / free parking                    |[nice, appartment, /, free, parking]                      |\n",
      "+--------------------------------------------------+----------------------------------------------------------+\n",
      "only showing top 20 rows\n",
      "\n"
     ]
    }
   ],
   "source": [
    "wordsData.select('name', 'words').show(truncate=False)"
   ]
  },
  {
   "cell_type": "markdown",
   "metadata": {},
   "source": [
    "Another way to split data into tokens is Regex Tockenizer"
   ]
  },
  {
   "cell_type": "code",
   "execution_count": 24,
   "metadata": {},
   "outputs": [
    {
     "name": "stdout",
     "output_type": "stream",
     "text": [
      "+--------------------------------------------------+----------------------------------------------------------+\n",
      "|name                                              |words                                                     |\n",
      "+--------------------------------------------------+----------------------------------------------------------+\n",
      "|Clean room Amsterdam. Metro 3min walk.Free parking|[Clean, room, Amsterdam, Metro, 3min, walk, Free, parking]|\n",
      "|Sunny and cozy room close to metro                |[Sunny, and, cozy, room, close, to, metro]                |\n",
      "|Pop B&B-private room,free parking,sauna,terraces  |[Pop, B, B, private, room, free, parking, sauna, terraces]|\n",
      "|Tastefully furnished studio with breakfast&parking|[Tastefully, furnished, studio, with, breakfast, parking] |\n",
      "|Cozy room in the SE of Amsterdam                  |[Cozy, room, in, the, SE, of, Amsterdam]                  |\n",
      "|Great room south of Amsterdam!                    |[Great, room, south, of, Amsterdam]                       |\n",
      "|Lovely room in South East Amsterdam               |[Lovely, room, in, South, East, Amsterdam]                |\n",
      "|spacious light appartment amsterdam zuid-oost     |[spacious, light, appartment, amsterdam, zuid, oost]      |\n",
      "|Amsterdam South Studio                            |[Amsterdam, South, Studio]                                |\n",
      "|B&B# green oasis with free parking                |[B, B, green, oasis, with, free, parking]                 |\n",
      "|King  bedroom near metro station                  |[King, bedroom, near, metro, station]                     |\n",
      "|Spacious room in a neat house                     |[Spacious, room, in, a, neat, house]                      |\n",
      "|Wow! Laid back townhouse with terrace and garden  |[Wow, Laid, back, townhouse, with, terrace, and, garden]  |\n",
      "|Amsterdam thrive retreat                          |[Amsterdam, thrive, retreat]                              |\n",
      "|Large bedroom 15 min from Amsterdam city center   |[Large, bedroom, 15, min, from, Amsterdam, city, center]  |\n",
      "|Comfortable  room for 1 or 2 people               |[Comfortable, room, for, 1, or, 2, people]                |\n",
      "|3 rooms in green environment                      |[3, rooms, in, green, environment]                        |\n",
      "|Studio Amsterdam (55M2) - Bicycle included!       |[Studio, Amsterdam, 55M2, Bicycle, included]              |\n",
      "|Nice room 15 min to city center. Free parking     |[Nice, room, 15, min, to, city, center, Free, parking]    |\n",
      "|Nice appartment / free parking                    |[Nice, appartment, free, parking]                         |\n",
      "+--------------------------------------------------+----------------------------------------------------------+\n",
      "only showing top 20 rows\n",
      "\n"
     ]
    }
   ],
   "source": [
    "from pyspark.ml.feature import RegexTokenizer\n",
    "regexTokenizer = RegexTokenizer(inputCol=\"name\", outputCol=\"words\", pattern=\"\\\\W\", toLowercase=False)\n",
    "wordsData = regexTokenizer.transform(listings)\n",
    "wordsData.select('name', 'words').show(truncate=False)"
   ]
  },
  {
   "cell_type": "markdown",
   "metadata": {},
   "source": [
    "### Stopwords\n",
    "Currently, our tokens contains stopwords, so let's remove them to get meaningful TF"
   ]
  },
  {
   "cell_type": "code",
   "execution_count": 25,
   "metadata": {},
   "outputs": [
    {
     "name": "stdout",
     "output_type": "stream",
     "text": [
      "+--------------------------------------------------+----------------------------------------------------------+----------------------------------------------------------+\n",
      "|name                                              |words                                                     |clean_tokens                                              |\n",
      "+--------------------------------------------------+----------------------------------------------------------+----------------------------------------------------------+\n",
      "|Clean room Amsterdam. Metro 3min walk.Free parking|[Clean, room, Amsterdam, Metro, 3min, walk, Free, parking]|[Clean, room, Amsterdam, Metro, 3min, walk, Free, parking]|\n",
      "|Sunny and cozy room close to metro                |[Sunny, and, cozy, room, close, to, metro]                |[Sunny, cozy, room, close, metro]                         |\n",
      "|Pop B&B-private room,free parking,sauna,terraces  |[Pop, B, B, private, room, free, parking, sauna, terraces]|[Pop, B, B, private, room, free, parking, sauna, terraces]|\n",
      "|Tastefully furnished studio with breakfast&parking|[Tastefully, furnished, studio, with, breakfast, parking] |[Tastefully, furnished, studio, breakfast, parking]       |\n",
      "|Cozy room in the SE of Amsterdam                  |[Cozy, room, in, the, SE, of, Amsterdam]                  |[Cozy, room, SE, Amsterdam]                               |\n",
      "|Great room south of Amsterdam!                    |[Great, room, south, of, Amsterdam]                       |[Great, room, south, Amsterdam]                           |\n",
      "|Lovely room in South East Amsterdam               |[Lovely, room, in, South, East, Amsterdam]                |[Lovely, room, South, East, Amsterdam]                    |\n",
      "|spacious light appartment amsterdam zuid-oost     |[spacious, light, appartment, amsterdam, zuid, oost]      |[spacious, light, appartment, amsterdam, zuid, oost]      |\n",
      "|Amsterdam South Studio                            |[Amsterdam, South, Studio]                                |[Amsterdam, South, Studio]                                |\n",
      "|B&B# green oasis with free parking                |[B, B, green, oasis, with, free, parking]                 |[B, B, green, oasis, free, parking]                       |\n",
      "|King  bedroom near metro station                  |[King, bedroom, near, metro, station]                     |[King, bedroom, near, metro, station]                     |\n",
      "|Spacious room in a neat house                     |[Spacious, room, in, a, neat, house]                      |[Spacious, room, neat, house]                             |\n",
      "|Wow! Laid back townhouse with terrace and garden  |[Wow, Laid, back, townhouse, with, terrace, and, garden]  |[Wow, Laid, back, townhouse, terrace, garden]             |\n",
      "|Amsterdam thrive retreat                          |[Amsterdam, thrive, retreat]                              |[Amsterdam, thrive, retreat]                              |\n",
      "|Large bedroom 15 min from Amsterdam city center   |[Large, bedroom, 15, min, from, Amsterdam, city, center]  |[Large, bedroom, 15, min, Amsterdam, city, center]        |\n",
      "|Comfortable  room for 1 or 2 people               |[Comfortable, room, for, 1, or, 2, people]                |[Comfortable, room, 1, 2, people]                         |\n",
      "|3 rooms in green environment                      |[3, rooms, in, green, environment]                        |[3, rooms, green, environment]                            |\n",
      "|Studio Amsterdam (55M2) - Bicycle included!       |[Studio, Amsterdam, 55M2, Bicycle, included]              |[Studio, Amsterdam, 55M2, Bicycle, included]              |\n",
      "|Nice room 15 min to city center. Free parking     |[Nice, room, 15, min, to, city, center, Free, parking]    |[Nice, room, 15, min, city, center, Free, parking]        |\n",
      "|Nice appartment / free parking                    |[Nice, appartment, free, parking]                         |[Nice, appartment, free, parking]                         |\n",
      "+--------------------------------------------------+----------------------------------------------------------+----------------------------------------------------------+\n",
      "only showing top 20 rows\n",
      "\n"
     ]
    }
   ],
   "source": [
    "from pyspark.ml.feature import StopWordsRemover\n",
    "\n",
    "remover = StopWordsRemover(inputCol=\"words\", outputCol=\"clean_tokens\")\n",
    "words_data_cleaned = remover.transform(wordsData)\n",
    "words_data_cleaned.select(\"name\", \"words\", \"clean_tokens\").show(truncate=False)"
   ]
  },
  {
   "cell_type": "code",
   "execution_count": 26,
   "metadata": {},
   "outputs": [],
   "source": [
    "num_features = 35"
   ]
  },
  {
   "cell_type": "markdown",
   "metadata": {},
   "source": [
    "## TF\n",
    "Terms frequency analysis. Let's do TF for each title."
   ]
  },
  {
   "cell_type": "code",
   "execution_count": 27,
   "metadata": {},
   "outputs": [
    {
     "name": "stdout",
     "output_type": "stream",
     "text": [
      "+--------------------------------------------------+--------------------------------------------------------------+\n",
      "|name                                              |rawFeatures                                                   |\n",
      "+--------------------------------------------------+--------------------------------------------------------------+\n",
      "|Clean room Amsterdam. Metro 3min walk.Free parking|(35,[1,6,12,18,23,24,32,33],[1.0,1.0,1.0,1.0,1.0,1.0,1.0,1.0])|\n",
      "|Sunny and cozy room close to metro                |(35,[10,24,25,29,31],[1.0,1.0,1.0,1.0,1.0])                   |\n",
      "|Pop B&B-private room,free parking,sauna,terraces  |(35,[4,15,18,21,24,27,34],[2.0,1.0,2.0,1.0,1.0,1.0,1.0])      |\n",
      "|Tastefully furnished studio with breakfast&parking|(35,[3,18,19,21,29],[1.0,1.0,1.0,1.0,1.0])                    |\n",
      "|Cozy room in the SE of Amsterdam                  |(35,[4,7,12,24],[1.0,1.0,1.0,1.0])                            |\n",
      "|Great room south of Amsterdam!                    |(35,[0,12,24,34],[1.0,1.0,1.0,1.0])                           |\n",
      "|Lovely room in South East Amsterdam               |(35,[4,12,20,24,31],[1.0,1.0,1.0,1.0,1.0])                    |\n",
      "|spacious light appartment amsterdam zuid-oost     |(35,[10,14,15,28,33],[1.0,1.0,1.0,1.0,2.0])                   |\n",
      "|Amsterdam South Studio                            |(35,[12,20,25],[1.0,1.0,1.0])                                 |\n",
      "|B&B# green oasis with free parking                |(35,[0,4,10,18],[1.0,2.0,1.0,2.0])                            |\n",
      "|King  bedroom near metro station                  |(35,[6,19,20,22,25],[1.0,1.0,1.0,1.0,1.0])                    |\n",
      "|Spacious room in a neat house                     |(35,[3,4,11,24],[1.0,1.0,1.0,1.0])                            |\n",
      "|Wow! Laid back townhouse with terrace and garden  |(35,[3,7,8,10,23,32],[1.0,1.0,1.0,1.0,1.0,1.0])               |\n",
      "|Amsterdam thrive retreat                          |(35,[0,12],[1.0,2.0])                                         |\n",
      "|Large bedroom 15 min from Amsterdam city center   |(35,[12,14,17,22,25,33],[1.0,1.0,1.0,1.0,2.0,1.0])            |\n",
      "|Comfortable  room for 1 or 2 people               |(35,[6,11,24,34],[1.0,1.0,2.0,1.0])                           |\n",
      "|3 rooms in green environment                      |(35,[6,10,13,23],[1.0,1.0,1.0,1.0])                           |\n",
      "|Studio Amsterdam (55M2) - Bicycle included!       |(35,[7,8,12,25],[1.0,1.0,1.0,2.0])                            |\n",
      "|Nice room 15 min to city center. Free parking     |(35,[6,17,18,24,25,26,33],[1.0,1.0,1.0,1.0,2.0,1.0,1.0])      |\n",
      "|Nice appartment / free parking                    |(35,[15,18,26],[1.0,2.0,1.0])                                 |\n",
      "+--------------------------------------------------+--------------------------------------------------------------+\n",
      "only showing top 20 rows\n",
      "\n"
     ]
    }
   ],
   "source": [
    "hashingTF = HashingTF(inputCol='clean_tokens', outputCol='rawFeatures', numFeatures=num_features)\n",
    "featurizedData = hashingTF.transform(words_data_cleaned)\n",
    "featurizedData.select(\"name\", \"rawFeatures\").show(truncate=False)"
   ]
  },
  {
   "cell_type": "markdown",
   "metadata": {},
   "source": [
    "## IDF\n",
    "So, now we have **TF** but it is not a meaninghful indicator, as it only shows the frequency of a term in a document. \n",
    "**IDF Inverce Document Frequency** penalizes the terms that are frequent in **all** documents and rewards the terms that are frequent in **some** small subset of documents."
   ]
  },
  {
   "cell_type": "code",
   "execution_count": 28,
   "metadata": {},
   "outputs": [
    {
     "name": "stdout",
     "output_type": "stream",
     "text": [
      "+--------------------+--------------------+\n",
      "|                name|            features|\n",
      "+--------------------+--------------------+\n",
      "|Clean room Amster...|(35,[1,6,12,18,23...|\n",
      "|Sunny and cozy ro...|(35,[10,24,25,29,...|\n",
      "|Pop B&B-private r...|(35,[4,15,18,21,2...|\n",
      "|Tastefully furnis...|(35,[3,18,19,21,2...|\n",
      "|Cozy room in the ...|(35,[4,7,12,24],[...|\n",
      "|Great room south ...|(35,[0,12,24,34],...|\n",
      "|Lovely room in So...|(35,[4,12,20,24,3...|\n",
      "|spacious light ap...|(35,[10,14,15,28,...|\n",
      "|Amsterdam South S...|(35,[12,20,25],[1...|\n",
      "|B&B# green oasis ...|(35,[0,4,10,18],[...|\n",
      "|King  bedroom nea...|(35,[6,19,20,22,2...|\n",
      "|Spacious room in ...|(35,[3,4,11,24],[...|\n",
      "|Wow! Laid back to...|(35,[3,7,8,10,23,...|\n",
      "|Amsterdam thrive ...|(35,[0,12],[2.183...|\n",
      "|Large bedroom 15 ...|(35,[12,14,17,22,...|\n",
      "|Comfortable  room...|(35,[6,11,24,34],...|\n",
      "|3 rooms in green ...|(35,[6,10,13,23],...|\n",
      "|Studio Amsterdam ...|(35,[7,8,12,25],[...|\n",
      "|Nice room 15 min ...|(35,[6,17,18,24,2...|\n",
      "|Nice appartment /...|(35,[15,18,26],[1...|\n",
      "+--------------------+--------------------+\n",
      "only showing top 20 rows\n",
      "\n"
     ]
    }
   ],
   "source": [
    "idf = IDF(inputCol='rawFeatures', outputCol='features')\n",
    "idfModel = idf.fit(featurizedData)\n",
    "results = idfModel.transform(featurizedData)\n",
    "results.select('name', 'features').show()"
   ]
  },
  {
   "cell_type": "code",
   "execution_count": 29,
   "metadata": {},
   "outputs": [],
   "source": [
    "training_set_size = 500"
   ]
  },
  {
   "cell_type": "code",
   "execution_count": 30,
   "metadata": {},
   "outputs": [],
   "source": [
    "df_hashing = results.limit(training_set_size)"
   ]
  },
  {
   "cell_type": "markdown",
   "metadata": {},
   "source": [
    "## LSHForest\n",
    "Now, when we have TF IDF metrics, we could perform LSH Forest algorithm to 'cluster' the data. \n",
    "It uses random planes to divide the region in a bunch of sub-regions and then determins nearest neighbors using positions of points with regards to those planes."
   ]
  },
  {
   "cell_type": "code",
   "execution_count": 31,
   "metadata": {},
   "outputs": [],
   "source": [
    "from sklearn.neighbors import LSHForest\n",
    "import numpy as np"
   ]
  },
  {
   "cell_type": "code",
   "execution_count": 32,
   "metadata": {},
   "outputs": [],
   "source": [
    "import warnings\n",
    "warnings.filterwarnings(\"ignore\", category=DeprecationWarning)"
   ]
  },
  {
   "cell_type": "markdown",
   "metadata": {},
   "source": [
    "First of all - lets train **LSHForest** on a small subset"
   ]
  },
  {
   "cell_type": "code",
   "execution_count": 33,
   "metadata": {},
   "outputs": [
    {
     "data": {
      "text/plain": [
       "array([[  0, 175, 315],\n",
       "       [  1, 249, 281],\n",
       "       [  2, 111, 499],\n",
       "       ...,\n",
       "       [497, 192, 137],\n",
       "       [498,  50, 476],\n",
       "       [499, 341, 210]])"
      ]
     },
     "execution_count": 33,
     "metadata": {},
     "output_type": "execute_result"
    }
   ],
   "source": [
    "data_hashing = np.array(df_hashing.select('features').collect())\n",
    "data_hashing = data_hashing.reshape((training_set_size,num_features))\n",
    "data_hashing.shape\n",
    "lshf = LSHForest(random_state=42)\n",
    "lshf.fit(data_hashing)\n",
    "\n",
    "distances, indices = lshf.kneighbors(data_hashing, n_neighbors = 3)\n",
    "indices"
   ]
  },
  {
   "cell_type": "markdown",
   "metadata": {},
   "source": [
    "To determine with what precision the algorithm works, we need to have a correct indices. Let's obtain ones with brute force, to be sure :)"
   ]
  },
  {
   "cell_type": "code",
   "execution_count": 34,
   "metadata": {},
   "outputs": [],
   "source": [
    "from sklearn.neighbors import NearestNeighbors\n",
    "from sklearn.metrics import confusion_matrix\n",
    "nbrs = NearestNeighbors(n_neighbors=3, algorithm='brute').fit(data_hashing)\n",
    "distances_brutal, indices_brutal = nbrs.kneighbors(data_hashing)"
   ]
  },
  {
   "cell_type": "markdown",
   "metadata": {},
   "source": [
    "## Precision\n",
    "As a measure of precision, I'm going to use the relation of correctly determined neighbors to the total number"
   ]
  },
  {
   "cell_type": "code",
   "execution_count": 35,
   "metadata": {},
   "outputs": [
    {
     "data": {
      "text/plain": [
       "0.6286666666666667"
      ]
     },
     "execution_count": 35,
     "metadata": {},
     "output_type": "execute_result"
    }
   ],
   "source": [
    "np.sum(indices_brutal == indices) / indices.size"
   ]
  },
  {
   "cell_type": "markdown",
   "metadata": {},
   "source": [
    "# GridSearch\n",
    "\n",
    "Now it's time to tune params!!\n",
    "Here, we are going to use spark boosted GridSearch \n",
    "As we are having our own precision measure, we need to implement a custom scorer, with which GridSearch would be able to compare different models\n",
    "\n",
    "As previousely, I'm comparing LSH results with brut force ones"
   ]
  },
  {
   "cell_type": "code",
   "execution_count": 36,
   "metadata": {},
   "outputs": [],
   "source": [
    "def scorer(estimator, X):\n",
    "    estimator.fit(X)\n",
    "    distances, indices = estimator.kneighbors(X, n_neighbors = 3)\n",
    "    \n",
    "    nbrs = NearestNeighbors(n_neighbors=3, algorithm='brute').fit(X)\n",
    "    distances_brutal, indices_brutal = nbrs.kneighbors(X)\n",
    "    score = np.sum(indices_brutal == indices) / indices.size\n",
    "    print(score)\n",
    "    return score"
   ]
  },
  {
   "cell_type": "markdown",
   "metadata": {},
   "source": [
    "### Lazy computations\n",
    "As we are running multiple times it makes sence to calculate correct neighbors just once"
   ]
  },
  {
   "cell_type": "code",
   "execution_count": 37,
   "metadata": {},
   "outputs": [],
   "source": [
    "def scorer_lazy(estimator, X, y):\n",
    "    estimator.fit(X)\n",
    "    distances, indices = estimator.kneighbors(X, n_neighbors = 3)\n",
    "    return np.sum(y == indices) / indices.size"
   ]
  },
  {
   "cell_type": "markdown",
   "metadata": {},
   "source": [
    "As the variants for tuning i'm going to use `tuned_params`. Also tuning I'm going to perform on a small dataset as well"
   ]
  },
  {
   "cell_type": "code",
   "execution_count": 38,
   "metadata": {},
   "outputs": [
    {
     "name": "stdout",
     "output_type": "stream",
     "text": [
      "CPU times: user 440 ms, sys: 604 ms, total: 1.04 s\n",
      "Wall time: 3min 49s\n"
     ]
    }
   ],
   "source": [
    "%%time\n",
    "\n",
    "from spark_sklearn import GridSearchCV\n",
    "from sklearn import ensemble\n",
    "\n",
    "lshf = LSHForest(random_state=42)\n",
    "\n",
    "tuned_params = {\n",
    "    'n_estimators': [5,10, 100],\n",
    "    'min_hash_match': [1, 4, 8],\n",
    "    'n_candidates':[5, 10, 100],\n",
    "    'n_neighbors': [3]\n",
    "}\n",
    "\n",
    "nbrs = NearestNeighbors(n_neighbors=3, algorithm='brute').fit(data_hashing)\n",
    "distances_brutal, indices_brutal = nbrs.kneighbors(data_hashing)\n",
    "\n",
    "clf = GridSearchCV(sc, lshf, param_grid = tuned_params, scoring=scorer)\n",
    "clf.fit(data_hashing)"
   ]
  },
  {
   "cell_type": "markdown",
   "metadata": {},
   "source": [
    "So it took some time - but we've finally got the result, let's have a look at the parameters that produced the highest score"
   ]
  },
  {
   "cell_type": "code",
   "execution_count": 39,
   "metadata": {},
   "outputs": [
    {
     "data": {
      "text/plain": [
       "LSHForest(min_hash_match=1, n_candidates=100, n_estimators=100, n_neighbors=3,\n",
       "     radius=1.0, radius_cutoff_ratio=0.9, random_state=42)"
      ]
     },
     "execution_count": 39,
     "metadata": {},
     "output_type": "execute_result"
    }
   ],
   "source": [
    "clf.best_estimator_"
   ]
  },
  {
   "cell_type": "markdown",
   "metadata": {},
   "source": [
    "Scores history over all iterations - not really meaningful but is ok to see the range"
   ]
  },
  {
   "cell_type": "code",
   "execution_count": 40,
   "metadata": {},
   "outputs": [
    {
     "name": "stdout",
     "output_type": "stream",
     "text": [
      "min score:0.4013333333333334\n",
      "max score:0.6393333333333333\n"
     ]
    }
   ],
   "source": [
    "scores = clf.cv_results_['mean_test_score']\n",
    "print('min score:{}'.format(min(scores)))\n",
    "print('max score:{}'.format(max(scores)))"
   ]
  },
  {
   "cell_type": "markdown",
   "metadata": {},
   "source": [
    "## Full dataset test\n",
    "Now we could test on the full dataset the tuned params"
   ]
  },
  {
   "cell_type": "code",
   "execution_count": 41,
   "metadata": {},
   "outputs": [],
   "source": [
    "full_amster = np.array(results.select('features').collect())\n",
    "full_amster = full_amster.reshape((full_amster.shape[0],num_features))"
   ]
  },
  {
   "cell_type": "code",
   "execution_count": 42,
   "metadata": {},
   "outputs": [
    {
     "data": {
      "text/plain": [
       "LSHForest(min_hash_match=1, n_candidates=50, n_estimators=50, n_neighbors=3,\n",
       "     radius=1.0, radius_cutoff_ratio=0.9, random_state=42)"
      ]
     },
     "execution_count": 42,
     "metadata": {},
     "output_type": "execute_result"
    }
   ],
   "source": [
    "lshf_best = LSHForest(random_state=42, min_hash_match = 1, n_candidates = 50, n_estimators=50, n_neighbors= 3)\n",
    "lshf_best.fit(full_amster) "
   ]
  },
  {
   "cell_type": "code",
   "execution_count": 43,
   "metadata": {},
   "outputs": [],
   "source": [
    "dists_full, indices_full = lshf_best.kneighbors(full_amster)"
   ]
  },
  {
   "cell_type": "code",
   "execution_count": 44,
   "metadata": {},
   "outputs": [],
   "source": [
    "nbrs = NearestNeighbors(n_neighbors=3, algorithm='brute').fit(full_amster)\n"
   ]
  },
  {
   "cell_type": "code",
   "execution_count": 45,
   "metadata": {},
   "outputs": [],
   "source": [
    "distances_brutal_full, indices_brutal_full = nbrs.kneighbors(full_amster)"
   ]
  },
  {
   "cell_type": "code",
   "execution_count": 46,
   "metadata": {},
   "outputs": [
    {
     "data": {
      "text/plain": [
       "0.6654990299633542"
      ]
     },
     "execution_count": 46,
     "metadata": {},
     "output_type": "execute_result"
    }
   ],
   "source": [
    "full_score = np.sum(indices_brutal_full == indices_full) / indices_full.size\n",
    "full_score"
   ]
  },
  {
   "cell_type": "code",
   "execution_count": 47,
   "metadata": {},
   "outputs": [],
   "source": [
    "dists_full, indices_full = lshf_best.kneighbors(data_hashing)"
   ]
  },
  {
   "cell_type": "markdown",
   "metadata": {},
   "source": [
    "## Results visualization\n",
    "I think it might be useful how different params influence the score so that we could build a few dependence plots"
   ]
  },
  {
   "cell_type": "code",
   "execution_count": 48,
   "metadata": {},
   "outputs": [
    {
     "name": "stdout",
     "output_type": "stream",
     "text": [
      "n_neighbors 1 [3]\n",
      "n_estimators 3 [5, 10, 100]\n",
      "n_candidates 3 [5, 10, 100]\n",
      "min_hash_match 3 [1, 4, 8]\n"
     ]
    }
   ],
   "source": [
    "import pandas as pd\n",
    "import matplotlib.pyplot as plt\n",
    "import seaborn as sns\n",
    "score = pd.DataFrame(clf.cv_results_).sort_values(by='mean_test_score', ascending = False)\n",
    "for i in tuned_params.keys():\n",
    "    print(i, len(tuned_params[i]), tuned_params[i])\n",
    "# score[i] = score.params.apply(lambda x: x[i])\n",
    "# l =['mean_test_score'] + list(tuned_params.keys())\n",
    "# for i in list(tuned_params.keys()):\n",
    "#     sns.swarmplot(data = score[l], x = i, y = 'mean_test_score')\n",
    "#     plt.show()"
   ]
  },
  {
   "cell_type": "code",
   "execution_count": 49,
   "metadata": {},
   "outputs": [
    {
     "data": {
      "text/plain": [
       "[<matplotlib.lines.Line2D at 0x7f851ada5da0>]"
      ]
     },
     "execution_count": 49,
     "metadata": {},
     "output_type": "execute_result"
    },
    {
     "data": {
      "image/png": "[encoded data removed]",
      "text/plain": [
       "<Figure size 432x288 with 1 Axes>"
      ]
     },
     "metadata": {},
     "output_type": "display_data"
    }
   ],
   "source": [
    "scores = clf.cv_results_['mean_test_score']\n",
    "plt.plot(scores)"
   ]
  },
  {
   "cell_type": "markdown",
   "metadata": {},
   "source": [
    "## Machine\n",
    "Intel core i5 7th generation\n",
    "RAM 16Gb "
   ]
  },
  {
   "cell_type": "code",
   "execution_count": 50,
   "metadata": {},
   "outputs": [],
   "source": [
    "dists_test, indices_test = lshf_best.kneighbors(data_hashing)"
   ]
  },
  {
   "cell_type": "code",
   "execution_count": 51,
   "metadata": {},
   "outputs": [
    {
     "data": {
      "text/plain": [
       "0.3006666666666667"
      ]
     },
     "execution_count": 51,
     "metadata": {},
     "output_type": "execute_result"
    }
   ],
   "source": [
    "np.sum(indices_brutal == indices_test) / indices_test.size"
   ]
  }
 ],
 "metadata": {
  "kernelspec": {
   "display_name": "Python 3",
   "language": "python",
   "name": "python3"
  },
  "language_info": {
   "codemirror_mode": {
    "name": "ipython",
    "version": 3
   },
   "file_extension": ".py",
   "mimetype": "text/x-python",
   "name": "python",
   "nbconvert_exporter": "python",
   "pygments_lexer": "ipython3",
   "version": "3.5.2"
  }
 },
 "nbformat": 4,
 "nbformat_minor": 2
}
